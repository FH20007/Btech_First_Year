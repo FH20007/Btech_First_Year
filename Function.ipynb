{
 "cells": [
  {
   "cell_type": "code",
   "execution_count": 1,
   "id": "76d94d79",
   "metadata": {},
   "outputs": [
    {
     "name": "stdout",
     "output_type": "stream",
     "text": [
      "Hello, Sajjad\n",
      "Hello, Fariyad\n"
     ]
    }
   ],
   "source": [
    "def greet(name):\n",
    "    \"\"\"This function greets a person by name.\"\"\"\n",
    "    print(\"Hello,\", name)\n",
    "\n",
    "# Calling the function\n",
    "greet(\"Sajjad\")\n",
    "greet(\"Fariyad\")\n"
   ]
  },
  {
   "cell_type": "code",
   "execution_count": 2,
   "id": "3873ae8d",
   "metadata": {},
   "outputs": [
    {
     "name": "stdout",
     "output_type": "stream",
     "text": [
      "J1,J2, J3,J4.J5\n",
      "J1,J2, J6,J7,J8\n"
     ]
    }
   ],
   "source": [
    "def ROBOT(Joint):\n",
    "    \"\"\"This function greets a person by name.\"\"\"\n",
    "    print(\"J1,J2,\", Joint)\n",
    "\n",
    "# Calling the function\n",
    "ROBOT(\"J3,J4.J5\")\n",
    "ROBOT(\"J6,J7,J8\")\n"
   ]
  },
  {
   "cell_type": "code",
   "execution_count": 3,
   "id": "9666060d",
   "metadata": {},
   "outputs": [
    {
     "name": "stdout",
     "output_type": "stream",
     "text": [
      "Moving arm to position: (0.5, 0.3, 0.2)\n",
      "Moving arm to position: (1.0, 0.0, 0.5)\n"
     ]
    }
   ],
   "source": [
    "# Function to move robot arm to a given position\n",
    "def move_arm(x, y, z):\n",
    "    print(f\"Moving arm to position: ({x}, {y}, {z})\")\n",
    "\n",
    "# Calling the function\n",
    "move_arm(0.5, 0.3, 0.2)\n",
    "move_arm(1.0, 0.0, 0.5)\n"
   ]
  },
  {
   "cell_type": "code",
   "execution_count": 4,
   "id": "8aba5624",
   "metadata": {},
   "outputs": [
    {
     "name": "stdout",
     "output_type": "stream",
     "text": [
      "Stop - Obstacle ahead!\n",
      "Move Forward\n"
     ]
    }
   ],
   "source": [
    "def check_obstacle(distance):\n",
    "    if distance < 20:\n",
    "        return \"Stop - Obstacle ahead!\"\n",
    "    else:\n",
    "        return \"Move Forward\"\n",
    "\n",
    "# Calling function\n",
    "print(check_obstacle(10))   # Output: Stop - Obstacle ahead!\n",
    "print(check_obstacle(50))   # Output: Move Forward\n"
   ]
  },
  {
   "cell_type": "code",
   "execution_count": 5,
   "id": "67b6c0d3",
   "metadata": {},
   "outputs": [
    {
     "ename": "ModuleNotFoundError",
     "evalue": "No module named 'rospy'",
     "output_type": "error",
     "traceback": [
      "\u001b[31m---------------------------------------------------------------------------\u001b[39m",
      "\u001b[31mModuleNotFoundError\u001b[39m                       Traceback (most recent call last)",
      "\u001b[36mCell\u001b[39m\u001b[36m \u001b[39m\u001b[32mIn[5]\u001b[39m\u001b[32m, line 1\u001b[39m\n\u001b[32m----> \u001b[39m\u001b[32m1\u001b[39m \u001b[38;5;28;01mimport\u001b[39;00m\u001b[38;5;250m \u001b[39m\u001b[34;01mrospy\u001b[39;00m\n\u001b[32m      2\u001b[39m \u001b[38;5;28;01mfrom\u001b[39;00m\u001b[38;5;250m \u001b[39m\u001b[34;01mgeometry_msgs\u001b[39;00m\u001b[34;01m.\u001b[39;00m\u001b[34;01mmsg\u001b[39;00m\u001b[38;5;250m \u001b[39m\u001b[38;5;28;01mimport\u001b[39;00m Twist\n\u001b[32m      4\u001b[39m \u001b[38;5;28;01mdef\u001b[39;00m\u001b[38;5;250m \u001b[39m\u001b[34mmove_robot\u001b[39m():\n",
      "\u001b[31mModuleNotFoundError\u001b[39m: No module named 'rospy'"
     ]
    }
   ],
   "source": [
    "import rospy\n",
    "from geometry_msgs.msg import Twist\n",
    "\n",
    "def move_robot():\n",
    "    rospy.init_node('move_node')\n",
    "    pub = rospy.Publisher('/cmd_vel', Twist, queue_size=10)\n",
    "\n",
    "    vel_msg = Twist()\n",
    "    vel_msg.linear.x = 0.5   # move forward\n",
    "    vel_msg.angular.z = 0.0\n",
    "\n",
    "    pub.publish(vel_msg)\n",
    "    print(\"Robot is moving forward...\")\n",
    "\n",
    "# Calling the function\n",
    "move_robot()\n"
   ]
  },
  {
   "cell_type": "code",
   "execution_count": 6,
   "id": "d536eb5f",
   "metadata": {},
   "outputs": [
    {
     "name": "stdout",
     "output_type": "stream",
     "text": [
      "Robot moving with linear=0.5, angular=0.0\n",
      "Robot moving with linear=0.0, angular=1.0\n"
     ]
    }
   ],
   "source": [
    "def move_robot(linear_velocity, angular_velocity):\n",
    "    print(f\"Robot moving with linear={linear_velocity}, angular={angular_velocity}\")\n",
    "\n",
    "# Call function\n",
    "move_robot(0.5, 0.0)\n",
    "move_robot(0.0, 1.0)\n"
   ]
  }
 ],
 "metadata": {
  "kernelspec": {
   "display_name": "Python 3",
   "language": "python",
   "name": "python3"
  },
  "language_info": {
   "codemirror_mode": {
    "name": "ipython",
    "version": 3
   },
   "file_extension": ".py",
   "mimetype": "text/x-python",
   "name": "python",
   "nbconvert_exporter": "python",
   "pygments_lexer": "ipython3",
   "version": "3.13.3"
  }
 },
 "nbformat": 4,
 "nbformat_minor": 5
}
